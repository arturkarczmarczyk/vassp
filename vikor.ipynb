{
 "cells": [
  {
   "cell_type": "code",
   "execution_count": null,
   "id": "initial_id",
   "metadata": {
    "collapsed": true
   },
   "outputs": [],
   "source": [
    "import numpy as np\n",
    "import pandas as pd\n",
    "from pyrepo_mcda import distance_metrics as dists\n",
    "from pyrepo_mcda import normalizations as norms\n",
    "from pyrepo_mcda.mcda_methods import VIKOR\n",
    "from src.vassp import VASSP\n"
   ]
  },
  {
   "cell_type": "code",
   "execution_count": null,
   "outputs": [],
   "source": [
    "wind_farms_data = pd.read_csv('wind_farms_data2.csv', index_col=0)\n",
    "wind_farms_data"
   ],
   "metadata": {
    "collapsed": false
   },
   "id": "b58c90009955c0f2"
  },
  {
   "cell_type": "code",
   "execution_count": null,
   "outputs": [],
   "source": [
    "impacts = wind_farms_data.tail(1).to_numpy().flatten()\n",
    "dm = wind_farms_data.head(-1)\n",
    "weights = np.full(dm.shape[1], 1/dm.shape[1])\n",
    "weights[0] += 1 - weights.sum()\n",
    "dm = dm.to_numpy()"
   ],
   "metadata": {
    "collapsed": false
   },
   "id": "b0af70a1455b399d"
  },
  {
   "cell_type": "code",
   "execution_count": null,
   "outputs": [],
   "source": [
    "vikor = VIKOR()\n",
    "Qs = vikor(dm, weights, impacts)\n",
    "Qs"
   ],
   "metadata": {
    "collapsed": false
   },
   "id": "25e5241ff1c637ab"
  },
  {
   "cell_type": "code",
   "execution_count": null,
   "outputs": [],
   "source": [
    "vassp = VASSP()\n",
    "Qs = vassp(dm, weights, impacts, v=0.5, s_coeffs=np.array([0.5]))\n",
    "Qs"
   ],
   "metadata": {
    "collapsed": false
   },
   "id": "a9c78b005c65bcaa"
  },
  {
   "cell_type": "code",
   "execution_count": null,
   "outputs": [],
   "source": [],
   "metadata": {
    "collapsed": false
   },
   "id": "b98ea850c220f7b7"
  }
 ],
 "metadata": {
  "kernelspec": {
   "display_name": "Python 3",
   "language": "python",
   "name": "python3"
  },
  "language_info": {
   "codemirror_mode": {
    "name": "ipython",
    "version": 2
   },
   "file_extension": ".py",
   "mimetype": "text/x-python",
   "name": "python",
   "nbconvert_exporter": "python",
   "pygments_lexer": "ipython2",
   "version": "2.7.6"
  }
 },
 "nbformat": 4,
 "nbformat_minor": 5
}
